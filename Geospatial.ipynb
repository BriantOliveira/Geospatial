{
 "cells": [
  {
   "cell_type": "code",
   "execution_count": 70,
   "metadata": {},
   "outputs": [],
   "source": [
    "import pandas as pd \n",
    "import numpy as np \n",
    "import matplotlib.pyplot as plt \n",
    "%matplotlib inline\n",
    "import geopandas as gpd"
   ]
  },
  {
   "cell_type": "code",
   "execution_count": 71,
   "metadata": {},
   "outputs": [],
   "source": [
    "from zipfile import ZipFile\n",
    "\n",
    "file_list = ['./data/data.zip']\n",
    "\n",
    "for archive in file_list:\n",
    "    zfile= ZipFile(archive)\n",
    "    zfile.extractall('./data/')"
   ]
  },
  {
   "cell_type": "code",
   "execution_count": 72,
   "metadata": {},
   "outputs": [],
   "source": [
    "shape_data = './data/MetroGIS_Tax_Parcels_2014/Parcels2014Hennepin.dbf'\n",
    "\n",
    "hennepin = gpd.read_file(shape_data)"
   ]
  },
  {
   "cell_type": "code",
   "execution_count": 73,
   "metadata": {},
   "outputs": [
    {
     "data": {
      "text/html": [
       "<div>\n",
       "<style scoped>\n",
       "    .dataframe tbody tr th:only-of-type {\n",
       "        vertical-align: middle;\n",
       "    }\n",
       "\n",
       "    .dataframe tbody tr th {\n",
       "        vertical-align: top;\n",
       "    }\n",
       "\n",
       "    .dataframe thead th {\n",
       "        text-align: right;\n",
       "    }\n",
       "</style>\n",
       "<table border=\"1\" class=\"dataframe\">\n",
       "  <thead>\n",
       "    <tr style=\"text-align: right;\">\n",
       "      <th></th>\n",
       "      <th>Shape_Leng</th>\n",
       "      <th>ACRES_POLY</th>\n",
       "      <th>ACRES_DEED</th>\n",
       "      <th>EMV_LAND</th>\n",
       "      <th>EMV_BLDG</th>\n",
       "      <th>EMV_TOTAL</th>\n",
       "      <th>TAX_CAPAC</th>\n",
       "      <th>TOTAL_TAX</th>\n",
       "      <th>SPEC_ASSES</th>\n",
       "      <th>FIN_SQ_FT</th>\n",
       "      <th>YEAR_BUILT</th>\n",
       "      <th>SALE_VALUE</th>\n",
       "      <th>PARC_CODE</th>\n",
       "      <th>Shape_Le_1</th>\n",
       "      <th>Shape_Area</th>\n",
       "    </tr>\n",
       "  </thead>\n",
       "  <tbody>\n",
       "    <tr>\n",
       "      <th>count</th>\n",
       "      <td>427762.000</td>\n",
       "      <td>427762.000</td>\n",
       "      <td>427762.000</td>\n",
       "      <td>427762.000</td>\n",
       "      <td>427762.000</td>\n",
       "      <td>427762.000</td>\n",
       "      <td>427762.000</td>\n",
       "      <td>427762.000</td>\n",
       "      <td>427762.000</td>\n",
       "      <td>427762.000</td>\n",
       "      <td>427762.000</td>\n",
       "      <td>427762.000</td>\n",
       "      <td>427762.000</td>\n",
       "      <td>427762.000</td>\n",
       "      <td>427762.000</td>\n",
       "    </tr>\n",
       "    <tr>\n",
       "      <th>mean</th>\n",
       "      <td>714.829</td>\n",
       "      <td>1.182</td>\n",
       "      <td>0.000</td>\n",
       "      <td>100417.396</td>\n",
       "      <td>186281.030</td>\n",
       "      <td>286978.172</td>\n",
       "      <td>3459.441</td>\n",
       "      <td>6340.558</td>\n",
       "      <td>142.821</td>\n",
       "      <td>528.123</td>\n",
       "      <td>1818.901</td>\n",
       "      <td>212717.235</td>\n",
       "      <td>0.000</td>\n",
       "      <td>217.780</td>\n",
       "      <td>4778.212</td>\n",
       "    </tr>\n",
       "    <tr>\n",
       "      <th>std</th>\n",
       "      <td>931.109</td>\n",
       "      <td>6.396</td>\n",
       "      <td>0.000</td>\n",
       "      <td>369414.051</td>\n",
       "      <td>1334878.246</td>\n",
       "      <td>1597713.632</td>\n",
       "      <td>31145.437</td>\n",
       "      <td>67508.127</td>\n",
       "      <td>2642.129</td>\n",
       "      <td>856.999</td>\n",
       "      <td>512.722</td>\n",
       "      <td>1269577.272</td>\n",
       "      <td>0.000</td>\n",
       "      <td>283.672</td>\n",
       "      <td>25863.244</td>\n",
       "    </tr>\n",
       "    <tr>\n",
       "      <th>min</th>\n",
       "      <td>3.016</td>\n",
       "      <td>0.000</td>\n",
       "      <td>0.000</td>\n",
       "      <td>0.000</td>\n",
       "      <td>0.000</td>\n",
       "      <td>0.000</td>\n",
       "      <td>0.000</td>\n",
       "      <td>0.000</td>\n",
       "      <td>0.000</td>\n",
       "      <td>0.000</td>\n",
       "      <td>0.000</td>\n",
       "      <td>0.000</td>\n",
       "      <td>0.000</td>\n",
       "      <td>0.918</td>\n",
       "      <td>0.054</td>\n",
       "    </tr>\n",
       "    <tr>\n",
       "      <th>25%</th>\n",
       "      <td>355.345</td>\n",
       "      <td>0.150</td>\n",
       "      <td>0.000</td>\n",
       "      <td>25300.000</td>\n",
       "      <td>75000.000</td>\n",
       "      <td>116400.000</td>\n",
       "      <td>966.000</td>\n",
       "      <td>1781.000</td>\n",
       "      <td>0.000</td>\n",
       "      <td>0.000</td>\n",
       "      <td>1931.000</td>\n",
       "      <td>33277.500</td>\n",
       "      <td>0.000</td>\n",
       "      <td>108.262</td>\n",
       "      <td>586.410</td>\n",
       "    </tr>\n",
       "    <tr>\n",
       "      <th>50%</th>\n",
       "      <td>447.681</td>\n",
       "      <td>0.260</td>\n",
       "      <td>0.000</td>\n",
       "      <td>50200.000</td>\n",
       "      <td>114700.000</td>\n",
       "      <td>174000.000</td>\n",
       "      <td>1584.000</td>\n",
       "      <td>2800.000</td>\n",
       "      <td>0.000</td>\n",
       "      <td>0.000</td>\n",
       "      <td>1962.000</td>\n",
       "      <td>132500.000</td>\n",
       "      <td>0.000</td>\n",
       "      <td>136.391</td>\n",
       "      <td>1056.451</td>\n",
       "    </tr>\n",
       "    <tr>\n",
       "      <th>75%</th>\n",
       "      <td>660.850</td>\n",
       "      <td>0.530</td>\n",
       "      <td>0.000</td>\n",
       "      <td>100000.000</td>\n",
       "      <td>173800.000</td>\n",
       "      <td>270000.000</td>\n",
       "      <td>2652.000</td>\n",
       "      <td>4410.000</td>\n",
       "      <td>0.000</td>\n",
       "      <td>1087.000</td>\n",
       "      <td>1985.000</td>\n",
       "      <td>230000.000</td>\n",
       "      <td>0.000</td>\n",
       "      <td>201.327</td>\n",
       "      <td>2122.854</td>\n",
       "    </tr>\n",
       "    <tr>\n",
       "      <th>max</th>\n",
       "      <td>117550.768</td>\n",
       "      <td>1305.220</td>\n",
       "      <td>0.000</td>\n",
       "      <td>96791600.000</td>\n",
       "      <td>552458400.000</td>\n",
       "      <td>649250000.000</td>\n",
       "      <td>12984250.000</td>\n",
       "      <td>28182825.000</td>\n",
       "      <td>749606.000</td>\n",
       "      <td>19269.000</td>\n",
       "      <td>2014.000</td>\n",
       "      <td>253486470.000</td>\n",
       "      <td>0.000</td>\n",
       "      <td>35811.803</td>\n",
       "      <td>5277411.217</td>\n",
       "    </tr>\n",
       "  </tbody>\n",
       "</table>\n",
       "</div>"
      ],
      "text/plain": [
       "       Shape_Leng  ACRES_POLY  ACRES_DEED     EMV_LAND      EMV_BLDG  \\\n",
       "count  427762.000  427762.000  427762.000   427762.000    427762.000   \n",
       "mean      714.829       1.182       0.000   100417.396    186281.030   \n",
       "std       931.109       6.396       0.000   369414.051   1334878.246   \n",
       "min         3.016       0.000       0.000        0.000         0.000   \n",
       "25%       355.345       0.150       0.000    25300.000     75000.000   \n",
       "50%       447.681       0.260       0.000    50200.000    114700.000   \n",
       "75%       660.850       0.530       0.000   100000.000    173800.000   \n",
       "max    117550.768    1305.220       0.000 96791600.000 552458400.000   \n",
       "\n",
       "          EMV_TOTAL    TAX_CAPAC    TOTAL_TAX  SPEC_ASSES  FIN_SQ_FT  \\\n",
       "count    427762.000   427762.000   427762.000  427762.000 427762.000   \n",
       "mean     286978.172     3459.441     6340.558     142.821    528.123   \n",
       "std     1597713.632    31145.437    67508.127    2642.129    856.999   \n",
       "min           0.000        0.000        0.000       0.000      0.000   \n",
       "25%      116400.000      966.000     1781.000       0.000      0.000   \n",
       "50%      174000.000     1584.000     2800.000       0.000      0.000   \n",
       "75%      270000.000     2652.000     4410.000       0.000   1087.000   \n",
       "max   649250000.000 12984250.000 28182825.000  749606.000  19269.000   \n",
       "\n",
       "       YEAR_BUILT    SALE_VALUE  PARC_CODE  Shape_Le_1  Shape_Area  \n",
       "count  427762.000    427762.000 427762.000  427762.000  427762.000  \n",
       "mean     1818.901    212717.235      0.000     217.780    4778.212  \n",
       "std       512.722   1269577.272      0.000     283.672   25863.244  \n",
       "min         0.000         0.000      0.000       0.918       0.054  \n",
       "25%      1931.000     33277.500      0.000     108.262     586.410  \n",
       "50%      1962.000    132500.000      0.000     136.391    1056.451  \n",
       "75%      1985.000    230000.000      0.000     201.327    2122.854  \n",
       "max      2014.000 253486470.000      0.000   35811.803 5277411.217  "
      ]
     },
     "execution_count": 73,
     "metadata": {},
     "output_type": "execute_result"
    }
   ],
   "source": [
    "hennepin.describe()"
   ]
  },
  {
   "cell_type": "code",
   "execution_count": 74,
   "metadata": {},
   "outputs": [],
   "source": [
    "from IPython.core.display import display, HTML\n",
    "#show all columns\n",
    "pd.options.display.max_columns = None\n",
    "#no sci notation\n",
    "pd.set_option('display.float_format', lambda x: '%.3f' % x)\n",
    "# plot sizes\n",
    "plt.rcParams[\"figure.figsize\"] = 10, 10"
   ]
  },
  {
   "cell_type": "code",
   "execution_count": 75,
   "metadata": {},
   "outputs": [
    {
     "data": {
      "text/plain": [
       "1.0"
      ]
     },
     "execution_count": 75,
     "metadata": {},
     "output_type": "execute_result"
    }
   ],
   "source": [
    "hennepin['PIN'].nunique(dropna=True) / len (hennepin['PIN'])"
   ]
  },
  {
   "cell_type": "code",
   "execution_count": 76,
   "metadata": {},
   "outputs": [],
   "source": [
    "hennepin = hennepin.set_index(['PIN']).sort_index()"
   ]
  },
  {
   "cell_type": "code",
   "execution_count": 77,
   "metadata": {},
   "outputs": [
    {
     "data": {
      "text/plain": [
       "['N', 'Y']"
      ]
     },
     "execution_count": 77,
     "metadata": {},
     "output_type": "execute_result"
    }
   ],
   "source": [
    "list(hennepin['GREEN_ACRE'].unique())"
   ]
  },
  {
   "cell_type": "code",
   "execution_count": 78,
   "metadata": {},
   "outputs": [
    {
     "data": {
      "text/plain": [
       "54"
      ]
     },
     "execution_count": 78,
     "metadata": {},
     "output_type": "execute_result"
    }
   ],
   "source": [
    "column_list = list(hennepin.select_dtypes(include=['object']).columns.values)\n",
    "\n",
    "len(column_list)"
   ]
  },
  {
   "cell_type": "code",
   "execution_count": 79,
   "metadata": {},
   "outputs": [],
   "source": [
    "#convert columns with strings to 'categorical' type\n",
    "def convert_to_categorical(df, cols):\n",
    "    for col in cols:\n",
    "        # get number of unique values\n",
    "        unique_vals = len(df[col].unique())\n",
    "        # calculate the ratio of unique values to total number of rows\n",
    "        unique_ratio = unique_vals / len(df)\n",
    "        if unique_ratio <= 0.2:\n",
    "            df[col] = df[col].astype('category')\n",
    "    return df"
   ]
  },
  {
   "cell_type": "code",
   "execution_count": 80,
   "metadata": {},
   "outputs": [
    {
     "ename": "TypeError",
     "evalue": "unhashable type: 'Polygon'",
     "output_type": "error",
     "traceback": [
      "\u001b[0;31m---------------------------------------------------------------------\u001b[0m",
      "\u001b[0;31mTypeError\u001b[0m                           Traceback (most recent call last)",
      "\u001b[0;32m<ipython-input-80-230b57e5bc1b>\u001b[0m in \u001b[0;36m<module>\u001b[0;34m()\u001b[0m\n\u001b[0;32m----> 1\u001b[0;31m \u001b[0mhennepin\u001b[0m \u001b[0;34m=\u001b[0m \u001b[0mconvert_to_categorical\u001b[0m\u001b[0;34m(\u001b[0m\u001b[0mhennepin\u001b[0m\u001b[0;34m,\u001b[0m \u001b[0mcolumn_list\u001b[0m\u001b[0;34m)\u001b[0m\u001b[0;34m\u001b[0m\u001b[0m\n\u001b[0m",
      "\u001b[0;32m<ipython-input-79-6a27653d6082>\u001b[0m in \u001b[0;36mconvert_to_categorical\u001b[0;34m(df, cols)\u001b[0m\n\u001b[1;32m      3\u001b[0m     \u001b[0;32mfor\u001b[0m \u001b[0mcol\u001b[0m \u001b[0;32min\u001b[0m \u001b[0mcols\u001b[0m\u001b[0;34m:\u001b[0m\u001b[0;34m\u001b[0m\u001b[0m\n\u001b[1;32m      4\u001b[0m         \u001b[0;31m# get number of unique values\u001b[0m\u001b[0;34m\u001b[0m\u001b[0;34m\u001b[0m\u001b[0m\n\u001b[0;32m----> 5\u001b[0;31m         \u001b[0munique_vals\u001b[0m \u001b[0;34m=\u001b[0m \u001b[0mlen\u001b[0m\u001b[0;34m(\u001b[0m\u001b[0mdf\u001b[0m\u001b[0;34m[\u001b[0m\u001b[0mcol\u001b[0m\u001b[0;34m]\u001b[0m\u001b[0;34m.\u001b[0m\u001b[0munique\u001b[0m\u001b[0;34m(\u001b[0m\u001b[0;34m)\u001b[0m\u001b[0;34m)\u001b[0m\u001b[0;34m\u001b[0m\u001b[0m\n\u001b[0m\u001b[1;32m      6\u001b[0m         \u001b[0;31m# calculate the ratio of unique values to total number of rows\u001b[0m\u001b[0;34m\u001b[0m\u001b[0;34m\u001b[0m\u001b[0m\n\u001b[1;32m      7\u001b[0m         \u001b[0munique_ratio\u001b[0m \u001b[0;34m=\u001b[0m \u001b[0munique_vals\u001b[0m \u001b[0;34m/\u001b[0m \u001b[0mlen\u001b[0m\u001b[0;34m(\u001b[0m\u001b[0mdf\u001b[0m\u001b[0;34m)\u001b[0m\u001b[0;34m\u001b[0m\u001b[0m\n",
      "\u001b[0;32m/usr/local/lib/python3.6/site-packages/pandas/core/series.py\u001b[0m in \u001b[0;36munique\u001b[0;34m(self)\u001b[0m\n\u001b[1;32m   1489\u001b[0m         \u001b[0mCategories\u001b[0m \u001b[0;34m(\u001b[0m\u001b[0;36m3\u001b[0m\u001b[0;34m,\u001b[0m \u001b[0mobject\u001b[0m\u001b[0;34m)\u001b[0m\u001b[0;34m:\u001b[0m \u001b[0;34m[\u001b[0m\u001b[0ma\u001b[0m \u001b[0;34m<\u001b[0m \u001b[0mb\u001b[0m \u001b[0;34m<\u001b[0m \u001b[0mc\u001b[0m\u001b[0;34m]\u001b[0m\u001b[0;34m\u001b[0m\u001b[0m\n\u001b[1;32m   1490\u001b[0m         \"\"\"\n\u001b[0;32m-> 1491\u001b[0;31m         \u001b[0mresult\u001b[0m \u001b[0;34m=\u001b[0m \u001b[0msuper\u001b[0m\u001b[0;34m(\u001b[0m\u001b[0mSeries\u001b[0m\u001b[0;34m,\u001b[0m \u001b[0mself\u001b[0m\u001b[0;34m)\u001b[0m\u001b[0;34m.\u001b[0m\u001b[0munique\u001b[0m\u001b[0;34m(\u001b[0m\u001b[0;34m)\u001b[0m\u001b[0;34m\u001b[0m\u001b[0m\n\u001b[0m\u001b[1;32m   1492\u001b[0m \u001b[0;34m\u001b[0m\u001b[0m\n\u001b[1;32m   1493\u001b[0m         \u001b[0;32mif\u001b[0m \u001b[0mis_datetime64tz_dtype\u001b[0m\u001b[0;34m(\u001b[0m\u001b[0mself\u001b[0m\u001b[0;34m.\u001b[0m\u001b[0mdtype\u001b[0m\u001b[0;34m)\u001b[0m\u001b[0;34m:\u001b[0m\u001b[0;34m\u001b[0m\u001b[0m\n",
      "\u001b[0;32m/usr/local/lib/python3.6/site-packages/pandas/core/base.py\u001b[0m in \u001b[0;36munique\u001b[0;34m(self)\u001b[0m\n\u001b[1;32m   1047\u001b[0m         \u001b[0;32melse\u001b[0m\u001b[0;34m:\u001b[0m\u001b[0;34m\u001b[0m\u001b[0m\n\u001b[1;32m   1048\u001b[0m             \u001b[0;32mfrom\u001b[0m \u001b[0mpandas\u001b[0m\u001b[0;34m.\u001b[0m\u001b[0mcore\u001b[0m\u001b[0;34m.\u001b[0m\u001b[0malgorithms\u001b[0m \u001b[0;32mimport\u001b[0m \u001b[0munique1d\u001b[0m\u001b[0;34m\u001b[0m\u001b[0m\n\u001b[0;32m-> 1049\u001b[0;31m             \u001b[0mresult\u001b[0m \u001b[0;34m=\u001b[0m \u001b[0munique1d\u001b[0m\u001b[0;34m(\u001b[0m\u001b[0mvalues\u001b[0m\u001b[0;34m)\u001b[0m\u001b[0;34m\u001b[0m\u001b[0m\n\u001b[0m\u001b[1;32m   1050\u001b[0m \u001b[0;34m\u001b[0m\u001b[0m\n\u001b[1;32m   1051\u001b[0m         \u001b[0;32mreturn\u001b[0m \u001b[0mresult\u001b[0m\u001b[0;34m\u001b[0m\u001b[0m\n",
      "\u001b[0;32m/usr/local/lib/python3.6/site-packages/pandas/core/algorithms.py\u001b[0m in \u001b[0;36munique\u001b[0;34m(values)\u001b[0m\n\u001b[1;32m    366\u001b[0m \u001b[0;34m\u001b[0m\u001b[0m\n\u001b[1;32m    367\u001b[0m     \u001b[0mtable\u001b[0m \u001b[0;34m=\u001b[0m \u001b[0mhtable\u001b[0m\u001b[0;34m(\u001b[0m\u001b[0mlen\u001b[0m\u001b[0;34m(\u001b[0m\u001b[0mvalues\u001b[0m\u001b[0;34m)\u001b[0m\u001b[0;34m)\u001b[0m\u001b[0;34m\u001b[0m\u001b[0m\n\u001b[0;32m--> 368\u001b[0;31m     \u001b[0muniques\u001b[0m \u001b[0;34m=\u001b[0m \u001b[0mtable\u001b[0m\u001b[0;34m.\u001b[0m\u001b[0munique\u001b[0m\u001b[0;34m(\u001b[0m\u001b[0mvalues\u001b[0m\u001b[0;34m)\u001b[0m\u001b[0;34m\u001b[0m\u001b[0m\n\u001b[0m\u001b[1;32m    369\u001b[0m     \u001b[0muniques\u001b[0m \u001b[0;34m=\u001b[0m \u001b[0m_reconstruct_data\u001b[0m\u001b[0;34m(\u001b[0m\u001b[0muniques\u001b[0m\u001b[0;34m,\u001b[0m \u001b[0mdtype\u001b[0m\u001b[0;34m,\u001b[0m \u001b[0moriginal\u001b[0m\u001b[0;34m)\u001b[0m\u001b[0;34m\u001b[0m\u001b[0m\n\u001b[1;32m    370\u001b[0m \u001b[0;34m\u001b[0m\u001b[0m\n",
      "\u001b[0;32mpandas/_libs/hashtable_class_helper.pxi\u001b[0m in \u001b[0;36mpandas._libs.hashtable.PyObjectHashTable.unique\u001b[0;34m()\u001b[0m\n",
      "\u001b[0;31mTypeError\u001b[0m: unhashable type: 'Polygon'"
     ]
    }
   ],
   "source": [
    "hennepin = convert_to_categorical(hennepin, column_list)"
   ]
  },
  {
   "cell_type": "code",
   "execution_count": null,
   "metadata": {},
   "outputs": [],
   "source": [
    "column_list = list(hennepin.select_dtypes(include=['object']).columns.values)\n",
    "# remove values frome the list of columns created\n",
    "column_list.remove('geometry')\n",
    "hennepin = convert_to_categorical(hennepin, column_list)"
   ]
  },
  {
   "cell_type": "code",
   "execution_count": 44,
   "metadata": {},
   "outputs": [
    {
     "ename": "AttributeError",
     "evalue": "'NoneType' object has no attribute 'info'",
     "output_type": "error",
     "traceback": [
      "\u001b[0;31m---------------------------------------------------------------------\u001b[0m",
      "\u001b[0;31mAttributeError\u001b[0m                      Traceback (most recent call last)",
      "\u001b[0;32m<ipython-input-44-a3837d349922>\u001b[0m in \u001b[0;36m<module>\u001b[0;34m()\u001b[0m\n\u001b[0;32m----> 1\u001b[0;31m \u001b[0mhennepin\u001b[0m\u001b[0;34m.\u001b[0m\u001b[0minfo\u001b[0m\u001b[0;34m(\u001b[0m\u001b[0;34m)\u001b[0m\u001b[0;34m\u001b[0m\u001b[0m\n\u001b[0m",
      "\u001b[0;31mAttributeError\u001b[0m: 'NoneType' object has no attribute 'info'"
     ]
    }
   ],
   "source": [
    "hennepin.info()"
   ]
  },
  {
   "cell_type": "code",
   "execution_count": null,
   "metadata": {},
   "outputs": [],
   "source": []
  }
 ],
 "metadata": {
  "kernelspec": {
   "display_name": "Python 3",
   "language": "python",
   "name": "python3"
  },
  "language_info": {
   "codemirror_mode": {
    "name": "ipython",
    "version": 3
   },
   "file_extension": ".py",
   "mimetype": "text/x-python",
   "name": "python",
   "nbconvert_exporter": "python",
   "pygments_lexer": "ipython3",
   "version": "3.6.5"
  }
 },
 "nbformat": 4,
 "nbformat_minor": 2
}
